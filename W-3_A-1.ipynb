{
 "cells": [
  {
   "cell_type": "markdown",
   "id": "c098c2c9-1387-4921-a398-f5fcb73fe7dc",
   "metadata": {},
   "source": [
    "## Q1. Which keyword is used to create a function? Create a function to return a list of odd numbers in the range of 1 to 25."
   ]
  },
  {
   "cell_type": "markdown",
   "id": "bd21d12c-731a-4a45-9105-04554e13975f",
   "metadata": {},
   "source": [
    "#### ->The keyword used to create a function def."
   ]
  },
  {
   "cell_type": "code",
   "execution_count": 1,
   "id": "0e231d7d-c426-47e2-8104-996f0d2294eb",
   "metadata": {},
   "outputs": [],
   "source": [
    "def odd_num():\n",
    "    l1 = []\n",
    "    for i in range(1,26):\n",
    "        if i % 2 != 0:\n",
    "            l1.append(i)\n",
    "    return l1"
   ]
  },
  {
   "cell_type": "code",
   "execution_count": 3,
   "id": "bc3d748c-0eb4-4d6f-9472-3f8ba0edecc1",
   "metadata": {},
   "outputs": [
    {
     "data": {
      "text/plain": [
       "[1, 3, 5, 7, 9, 11, 13, 15, 17, 19, 21, 23, 25]"
      ]
     },
     "execution_count": 3,
     "metadata": {},
     "output_type": "execute_result"
    }
   ],
   "source": [
    "odd_num() ## Call the function and print the result"
   ]
  },
  {
   "cell_type": "markdown",
   "id": "3fb73417-aa1b-48d0-81f2-adf9e7b19784",
   "metadata": {},
   "source": [
    "## Q2. Why *args and **kwargs is used in some functions? Create a function each for *args and **kwargs to demonstrate their use."
   ]
  },
  {
   "cell_type": "markdown",
   "id": "68f7e0b0-0cbc-4277-8303-60e7d06163f4",
   "metadata": {},
   "source": [
    "#### ->*args and **kwargs are used to pass a variable number of arguments to a function. They allow n number of args you can pass inside a function (*args) and keyword and dict arguments and (**kwargs)."
   ]
  },
  {
   "cell_type": "markdown",
   "id": "79d886e7-3714-4682-98b6-4e2f06d3ee0f",
   "metadata": {},
   "source": [
    "##### *args"
   ]
  },
  {
   "cell_type": "code",
   "execution_count": 6,
   "id": "407cbd35-3846-400d-ae6c-8fe9e870e7c4",
   "metadata": {},
   "outputs": [],
   "source": [
    "def test1(*args, a):\n",
    "    return args, a"
   ]
  },
  {
   "cell_type": "code",
   "execution_count": 7,
   "id": "97d439fb-040a-4204-b9c3-db53c2491603",
   "metadata": {},
   "outputs": [
    {
     "data": {
      "text/plain": [
       "((1, 2, 3), 4)"
      ]
     },
     "execution_count": 7,
     "metadata": {},
     "output_type": "execute_result"
    }
   ],
   "source": [
    "test1(1,2,3, a=4)"
   ]
  },
  {
   "cell_type": "markdown",
   "id": "6c07c0ce-99b4-4ffc-84a0-cbb7a425d374",
   "metadata": {},
   "source": [
    "##### **kwargs"
   ]
  },
  {
   "cell_type": "code",
   "execution_count": 9,
   "id": "778ae403-d23f-438a-9104-81f62f178305",
   "metadata": {},
   "outputs": [],
   "source": [
    "def test2(**kwargs):\n",
    "    return kwargs\n"
   ]
  },
  {
   "cell_type": "code",
   "execution_count": 10,
   "id": "fe9f9ac8-3a68-4381-96da-73475445cf62",
   "metadata": {},
   "outputs": [
    {
     "data": {
      "text/plain": [
       "{'a': [1, 2, 3, 4], 'b': 'ram', 'c': 45.5}"
      ]
     },
     "execution_count": 10,
     "metadata": {},
     "output_type": "execute_result"
    }
   ],
   "source": [
    "test2(a = [1,2,3,4], b=\"ram\", c=45.5)"
   ]
  },
  {
   "cell_type": "markdown",
   "id": "7d128984-dc07-475f-99c3-8fec1fc57ac8",
   "metadata": {},
   "source": [
    "## Q3. What is an iterator in python? Name the method used to initialise the iterator object and the method used for iteration. Use these methods to print the first five elements of the given list [2, 4, 6, 8, 10, 12, 14, 16, 18, 20]."
   ]
  },
  {
   "cell_type": "markdown",
   "id": "e5e3b8ed-c886-431a-8682-1053ddb1818d",
   "metadata": {},
   "source": [
    "#### ->An iterator is an object which allow you to iterate one by one element at a time without storing the entire sequence in memory.\n",
    "\n",
    "#### -->The method used to initialise the iterator object is \"iter()\" and the method used for iteration is \"next()\""
   ]
  },
  {
   "cell_type": "code",
   "execution_count": 11,
   "id": "950b786e-03c3-458e-b849-a0ab1b696ee2",
   "metadata": {},
   "outputs": [],
   "source": [
    " l2 =  [2, 4, 6, 8, 10, 12, 14, 16, 18, 20]"
   ]
  },
  {
   "cell_type": "code",
   "execution_count": 12,
   "id": "1beb9537-1e67-4cbb-a78c-ca34c7efbdc8",
   "metadata": {},
   "outputs": [
    {
     "name": "stdout",
     "output_type": "stream",
     "text": [
      "2\n",
      "4\n",
      "6\n",
      "8\n",
      "10\n",
      "12\n",
      "14\n",
      "16\n",
      "18\n",
      "20\n"
     ]
    }
   ],
   "source": [
    "for i in l2:\n",
    "    print(i)"
   ]
  },
  {
   "cell_type": "code",
   "execution_count": 15,
   "id": "7b25190c-3075-46ab-a231-504dcc48eeaf",
   "metadata": {},
   "outputs": [],
   "source": [
    "l = iter(l2)"
   ]
  },
  {
   "cell_type": "code",
   "execution_count": 16,
   "id": "0f960146-2d9a-420a-898e-c48aabdb9588",
   "metadata": {},
   "outputs": [
    {
     "data": {
      "text/plain": [
       "2"
      ]
     },
     "execution_count": 16,
     "metadata": {},
     "output_type": "execute_result"
    }
   ],
   "source": [
    "next(l)"
   ]
  },
  {
   "cell_type": "code",
   "execution_count": 17,
   "id": "9888b316-64f8-44e7-80cc-dc2c83f9b665",
   "metadata": {},
   "outputs": [
    {
     "data": {
      "text/plain": [
       "4"
      ]
     },
     "execution_count": 17,
     "metadata": {},
     "output_type": "execute_result"
    }
   ],
   "source": [
    "next(l)"
   ]
  },
  {
   "cell_type": "code",
   "execution_count": 18,
   "id": "e8a1b648-8201-4a5e-bace-350f80c39ef8",
   "metadata": {},
   "outputs": [
    {
     "data": {
      "text/plain": [
       "6"
      ]
     },
     "execution_count": 18,
     "metadata": {},
     "output_type": "execute_result"
    }
   ],
   "source": [
    "next(l)"
   ]
  },
  {
   "cell_type": "code",
   "execution_count": 19,
   "id": "cc94d2e8-206f-4b50-b4a5-edfe36462976",
   "metadata": {},
   "outputs": [
    {
     "data": {
      "text/plain": [
       "8"
      ]
     },
     "execution_count": 19,
     "metadata": {},
     "output_type": "execute_result"
    }
   ],
   "source": [
    "next(l)"
   ]
  },
  {
   "cell_type": "code",
   "execution_count": 20,
   "id": "42a909f2-0366-414f-9f64-a65014d42a0c",
   "metadata": {},
   "outputs": [
    {
     "data": {
      "text/plain": [
       "10"
      ]
     },
     "execution_count": 20,
     "metadata": {},
     "output_type": "execute_result"
    }
   ],
   "source": [
    "next(l)"
   ]
  },
  {
   "cell_type": "code",
   "execution_count": 33,
   "id": "b43fc8fd-05fe-451b-8c60-658056d8f5d6",
   "metadata": {},
   "outputs": [
    {
     "name": "stdout",
     "output_type": "stream",
     "text": [
      "2\n",
      "4\n",
      "6\n",
      "8\n",
      "10\n"
     ]
    }
   ],
   "source": [
    "l = iter(l2) #Create an instance of the iterator\n",
    "for i in range(5): # Print the first five elements using iteration\n",
    "    print(next(l))\n"
   ]
  },
  {
   "cell_type": "markdown",
   "id": "f502a694-a209-441c-8508-f087fce170fd",
   "metadata": {},
   "source": [
    "## Q4. What is a generator function in python? Why yield keyword is used? Give an example of a generator function."
   ]
  },
  {
   "cell_type": "markdown",
   "id": "643eb297-5073-4afe-b85f-159d98adbdee",
   "metadata": {},
   "source": [
    "#### A generator function is a special type of function that generates a sequence of values optimise the memory consumption, if the list have more elements then it occupies more main memory and provide result at once after arranging all elements, so in this process the memory consumption is high whereas in generator it provide result one by one by reducing the memory consumption."
   ]
  },
  {
   "cell_type": "markdown",
   "id": "b3f699d1-fc98-4b3c-9fda-76e038977328",
   "metadata": {},
   "source": [
    "#### yield keyword is used to generates a sequence of values, one at a time reducing memory and improving performance."
   ]
  },
  {
   "cell_type": "code",
   "execution_count": 38,
   "id": "2425155e-ef75-42e8-b9a3-3499fb78fc63",
   "metadata": {},
   "outputs": [],
   "source": [
    "def fib():\n",
    "    a,b =0,1\n",
    "    while True:\n",
    "        yield a\n",
    "        a,b = b, a+b\n",
    "        "
   ]
  },
  {
   "cell_type": "code",
   "execution_count": 41,
   "id": "1b401635-6e56-4ac7-a2d2-43dfd2326233",
   "metadata": {},
   "outputs": [],
   "source": [
    "test_fib = fib()"
   ]
  },
  {
   "cell_type": "code",
   "execution_count": 44,
   "id": "e5e856c6-53fd-47ab-a88c-9df03c4bcc2d",
   "metadata": {},
   "outputs": [
    {
     "name": "stdout",
     "output_type": "stream",
     "text": [
      "0\n",
      "1\n",
      "1\n",
      "2\n",
      "3\n",
      "5\n",
      "8\n",
      "13\n",
      "21\n",
      "34\n"
     ]
    }
   ],
   "source": [
    "for i in range(10):\n",
    "    print(next(test_fib))"
   ]
  },
  {
   "cell_type": "markdown",
   "id": "c0338abb-3263-47b8-9b6d-ac6ea29e7124",
   "metadata": {},
   "source": [
    "#### Q5. Create a generator function for prime numbers less than 1000. Use the next() method to print the first 20 prime numbers."
   ]
  },
  {
   "cell_type": "code",
   "execution_count": 57,
   "id": "f804c159-5d54-4048-bece-32cf079cf017",
   "metadata": {},
   "outputs": [],
   "source": [
    "def test_prime():\n",
    "    primes = []\n",
    "    num = 2\n",
    "    while True:\n",
    "        if all(num % prime != 0 for prime in primes):\n",
    "            primes.append(num)\n",
    "            yield num\n",
    "        num += 1\n",
    "        \n",
    "    "
   ]
  },
  {
   "cell_type": "code",
   "execution_count": 58,
   "id": "5922912a-5fa1-405c-a94a-c0b5076625ef",
   "metadata": {},
   "outputs": [],
   "source": [
    "prime_num = test_prime()"
   ]
  },
  {
   "cell_type": "code",
   "execution_count": 59,
   "id": "e105db46-a911-406e-aac6-42de29de7521",
   "metadata": {},
   "outputs": [
    {
     "name": "stdout",
     "output_type": "stream",
     "text": [
      "2\n",
      "3\n",
      "5\n",
      "7\n",
      "11\n",
      "13\n",
      "17\n",
      "19\n",
      "23\n",
      "29\n",
      "31\n",
      "37\n",
      "41\n",
      "43\n",
      "47\n",
      "53\n",
      "59\n",
      "61\n",
      "67\n",
      "71\n"
     ]
    }
   ],
   "source": [
    "for i in range(20):\n",
    "    print(next(prime_num))"
   ]
  },
  {
   "cell_type": "markdown",
   "id": "f22a7ff8-2a74-43b5-9d61-db0f4a73b48a",
   "metadata": {},
   "source": [
    "## Q6. Write a python program to print the first 10 Fibonacci numbers using a while loop."
   ]
  },
  {
   "cell_type": "code",
   "execution_count": 63,
   "id": "807eb3f3-e175-4c77-ad2e-d95ba9b3f84d",
   "metadata": {},
   "outputs": [],
   "source": [
    "def test_fib():\n",
    "    a,b =0,1\n",
    "    while True:\n",
    "        yield a\n",
    "        a,b =b, a+b"
   ]
  },
  {
   "cell_type": "code",
   "execution_count": 65,
   "id": "0b2554ce-05df-433b-9dc7-9dae4560ef6f",
   "metadata": {},
   "outputs": [],
   "source": [
    "fib = test_fib()"
   ]
  },
  {
   "cell_type": "code",
   "execution_count": 66,
   "id": "126c8054-8e57-429f-91c1-2cfcef1a7f25",
   "metadata": {},
   "outputs": [
    {
     "name": "stdout",
     "output_type": "stream",
     "text": [
      "0\n",
      "1\n",
      "1\n",
      "2\n",
      "3\n",
      "5\n",
      "8\n",
      "13\n",
      "21\n",
      "34\n"
     ]
    }
   ],
   "source": [
    "for i in range(10):\n",
    "    print(next(fib))"
   ]
  },
  {
   "cell_type": "markdown",
   "id": "1298487e-a82c-4553-8801-d8a791cffe1b",
   "metadata": {},
   "source": [
    "## Q7. Write a List Comprehension to iterate through the given string: ‘pwskills’.Expected output: ['p', 'w', 's', 'k', 'i', 'l', 'l', 's']"
   ]
  },
  {
   "cell_type": "code",
   "execution_count": 75,
   "id": "901e1271-87a8-4142-a3a4-11f159bfdf04",
   "metadata": {},
   "outputs": [
    {
     "data": {
      "text/plain": [
       "['p', 'w', 's', 'k', 'i', 'l', 'l', 's']"
      ]
     },
     "execution_count": 75,
     "metadata": {},
     "output_type": "execute_result"
    }
   ],
   "source": [
    "str = 'pwskills'\n",
    "l1 = [char for char in string]\n",
    "l1"
   ]
  },
  {
   "cell_type": "markdown",
   "id": "8081dd93-43dd-4dd3-9b9e-c3a55aea11d6",
   "metadata": {},
   "source": [
    "## Q8. Write a python program to check whether a given number is Palindrome or not using a while loop."
   ]
  },
  {
   "cell_type": "code",
   "execution_count": 12,
   "id": "2d443634-54fc-4509-b0d9-6739766b0134",
   "metadata": {},
   "outputs": [
    {
     "name": "stdin",
     "output_type": "stream",
     "text": [
      "enter a number:  22\n"
     ]
    },
    {
     "name": "stdout",
     "output_type": "stream",
     "text": [
      "22 is a palindrome.\n"
     ]
    }
   ],
   "source": [
    "def is_palindrome(number):\n",
    "    original_num = number\n",
    "    reverse = 0\n",
    "    while number > 0:\n",
    "        remainder = number % 10\n",
    "        reverse = (reverse * 10) + remainder\n",
    "        number = number // 10\n",
    "    if original_num == reverse:\n",
    "        return True\n",
    "    else: \n",
    "        return False\n",
    "    \n",
    "num = int(input(\"enter a number: \"))\n",
    "if is_palindrome(num):\n",
    "    print(num, \"is a palindrome.\")\n",
    "else:\n",
    "    print(num, \"is not a palindrome.\")\n",
    "    "
   ]
  },
  {
   "cell_type": "markdown",
   "id": "298089ed-42ae-481a-b621-aef7e1ee2664",
   "metadata": {},
   "source": [
    "## Q9. Write a code to print odd numbers from 1 to 100 using list comprehension."
   ]
  },
  {
   "cell_type": "code",
   "execution_count": 21,
   "id": "0601eea7-a389-4988-af65-8228a32638a7",
   "metadata": {},
   "outputs": [
    {
     "name": "stdout",
     "output_type": "stream",
     "text": [
      "[1, 3, 5, 7, 9, 11, 13, 15, 17, 19, 21, 23, 25, 27, 29, 31, 33, 35, 37, 39, 41, 43, 45, 47, 49, 51, 53, 55, 57, 59, 61, 63, 65, 67, 69, 71, 73, 75, 77, 79, 81, 83, 85, 87, 89, 91, 93, 95, 97, 99]\n"
     ]
    }
   ],
   "source": [
    "l1 = [num for num in range(1, 101) if num % 2 !=0]\n",
    "print(l1)"
   ]
  }
 ],
 "metadata": {
  "kernelspec": {
   "display_name": "Python 3 (ipykernel)",
   "language": "python",
   "name": "python3"
  },
  "language_info": {
   "codemirror_mode": {
    "name": "ipython",
    "version": 3
   },
   "file_extension": ".py",
   "mimetype": "text/x-python",
   "name": "python",
   "nbconvert_exporter": "python",
   "pygments_lexer": "ipython3",
   "version": "3.10.8"
  }
 },
 "nbformat": 4,
 "nbformat_minor": 5
}
